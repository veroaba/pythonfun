{
 "cells": [
  {
   "cell_type": "code",
   "execution_count": 21,
   "id": "269c3e9f-6b29-47f4-a12a-0bf4c4104e4d",
   "metadata": {},
   "outputs": [],
   "source": [
    "class Animal:\n",
    "    def  eat(self):\n",
    "        print (\"I eat\")\n",
    "class Cow(Animal):\n",
    "    def eat(self):\n",
    "        print(\"I eat grass\")\n",
    "        return 2\n",
    "    "
   ]
  },
  {
   "cell_type": "code",
   "execution_count": 22,
   "id": "196ff235-bdb4-45ef-9f1c-be34e3395609",
   "metadata": {},
   "outputs": [
    {
     "name": "stdout",
     "output_type": "stream",
     "text": [
      "I eat\n"
     ]
    }
   ],
   "source": [
    "a = Animal()\n",
    "a.eat()"
   ]
  },
  {
   "cell_type": "code",
   "execution_count": 23,
   "id": "54f04247-2d67-4a5e-93d9-37152ce47d58",
   "metadata": {},
   "outputs": [
    {
     "name": "stdout",
     "output_type": "stream",
     "text": [
      "I eat grass\n"
     ]
    },
    {
     "data": {
      "text/plain": [
       "2"
      ]
     },
     "execution_count": 23,
     "metadata": {},
     "output_type": "execute_result"
    }
   ],
   "source": [
    "c = Cow()\n",
    "c.eat()"
   ]
  },
  {
   "cell_type": "code",
   "execution_count": 26,
   "id": "f3372687-a891-4978-ad0c-df32339b8684",
   "metadata": {},
   "outputs": [],
   "source": [
    "class Tiger(Animal):\n",
    "    def eat(self):\n",
    "       print(\" I eat meat\")\n",
    "       return 4"
   ]
  },
  {
   "cell_type": "code",
   "execution_count": 27,
   "id": "db47f946-23f0-4c7f-8ed4-5896b3cfb215",
   "metadata": {},
   "outputs": [
    {
     "name": "stdout",
     "output_type": "stream",
     "text": [
      " I eat meat\n"
     ]
    },
    {
     "data": {
      "text/plain": [
       "4"
      ]
     },
     "execution_count": 27,
     "metadata": {},
     "output_type": "execute_result"
    }
   ],
   "source": [
    "t = Tiger()\n",
    "t.eat()"
   ]
  },
  {
   "cell_type": "code",
   "execution_count": 28,
   "id": "6c841c0a-9ebe-4bd3-9902-8f5a4a774e94",
   "metadata": {},
   "outputs": [
    {
     "name": "stdout",
     "output_type": "stream",
     "text": [
      " I eat meat\n"
     ]
    },
    {
     "data": {
      "text/plain": [
       "4"
      ]
     },
     "execution_count": 28,
     "metadata": {},
     "output_type": "execute_result"
    }
   ],
   "source": [
    "t2 = Tiger()\n",
    "t2.eat()"
   ]
  },
  {
   "cell_type": "code",
   "execution_count": 51,
   "id": "05a1d804-c5b3-4d8a-be12-2aa82f18a0e2",
   "metadata": {},
   "outputs": [],
   "source": [
    "class Zoo:\n",
    "    def __init__(self, list_of_animals):\n",
    "        self.animals = list_of_animals\n",
    "\n",
    "    def __len__(self):\n",
    "        return len(self.animals)\n",
    "    def __getitem__(self, i):\n",
    "        return self.animals[i]"
   ]
  },
  {
   "cell_type": "code",
   "execution_count": 52,
   "id": "43dea3f7-3995-4519-acce-fc8c77227daf",
   "metadata": {},
   "outputs": [],
   "source": [
    "zoo = Zoo([c,t])"
   ]
  },
  {
   "cell_type": "code",
   "execution_count": 53,
   "id": "d1bd2f2d-aafb-41fc-97e4-445b29158b45",
   "metadata": {},
   "outputs": [
    {
     "name": "stdout",
     "output_type": "stream",
     "text": [
      "I eat grass\n",
      " I eat meat\n"
     ]
    }
   ],
   "source": [
    "total_food_eaten = 0\n",
    "for animal in zoo.animals:\n",
    "    total_food_eaten += animal.eat()"
   ]
  },
  {
   "cell_type": "code",
   "execution_count": 54,
   "id": "70f85883-1112-4969-8861-32d3cfed998c",
   "metadata": {},
   "outputs": [
    {
     "data": {
      "text/plain": [
       "6"
      ]
     },
     "execution_count": 54,
     "metadata": {},
     "output_type": "execute_result"
    }
   ],
   "source": [
    "total_food_eaten"
   ]
  },
  {
   "cell_type": "code",
   "execution_count": 55,
   "id": "9a5dd72e-2364-4d8c-be16-8ba5684bb606",
   "metadata": {},
   "outputs": [
    {
     "data": {
      "text/plain": [
       "2"
      ]
     },
     "execution_count": 55,
     "metadata": {},
     "output_type": "execute_result"
    }
   ],
   "source": [
    "len(zoo)"
   ]
  },
  {
   "cell_type": "code",
   "execution_count": 58,
   "id": "86a8af89-3afa-4617-8f50-98beb4f6fa35",
   "metadata": {},
   "outputs": [
    {
     "name": "stdout",
     "output_type": "stream",
     "text": [
      "<__main__.Cow object at 0x10bfdca40>\n",
      "<__main__.Tiger object at 0x10bfe2600>\n"
     ]
    }
   ],
   "source": [
    "for animal in zoo:\n",
    "    print(animal)"
   ]
  },
  {
   "cell_type": "code",
   "execution_count": 56,
   "id": "45f0d312-cdd9-4767-9a93-d08fb67a6558",
   "metadata": {},
   "outputs": [
    {
     "data": {
      "text/plain": [
       "4"
      ]
     },
     "execution_count": 56,
     "metadata": {},
     "output_type": "execute_result"
    }
   ],
   "source": [
    "len([1,2,3,4]) #list"
   ]
  },
  {
   "cell_type": "code",
   "execution_count": 62,
   "id": "af60399c-7b84-460c-a787-41e42fc6c464",
   "metadata": {},
   "outputs": [
    {
     "name": "stdout",
     "output_type": "stream",
     "text": [
      "1\n",
      "2\n",
      "3\n",
      "4\n"
     ]
    }
   ],
   "source": [
    "for item in [1,2,3,4]:\n",
    "    print(item)"
   ]
  },
  {
   "cell_type": "code",
   "execution_count": 61,
   "id": "57518b16-d0f1-458f-8a3d-bd66e54fb9f9",
   "metadata": {},
   "outputs": [
    {
     "data": {
      "text/plain": [
       "11"
      ]
     },
     "execution_count": 61,
     "metadata": {},
     "output_type": "execute_result"
    }
   ],
   "source": [
    "len(\"hello world\") # string"
   ]
  },
  {
   "cell_type": "code",
   "execution_count": 63,
   "id": "e7ed821d-ae34-4162-a8ca-d73ede4fe507",
   "metadata": {},
   "outputs": [
    {
     "name": "stdout",
     "output_type": "stream",
     "text": [
      "h\n",
      "e\n",
      "l\n",
      "l\n",
      "o\n",
      " \n",
      "w\n",
      "o\n",
      "r\n",
      "l\n",
      "d\n"
     ]
    }
   ],
   "source": [
    "for ch in \"hello world\":\n",
    "    print(ch)"
   ]
  },
  {
   "cell_type": "code",
   "execution_count": 60,
   "id": "0ca50b46-1aa0-4652-9160-a8020b442af6",
   "metadata": {},
   "outputs": [
    {
     "data": {
      "text/plain": [
       "3"
      ]
     },
     "execution_count": 60,
     "metadata": {},
     "output_type": "execute_result"
    }
   ],
   "source": [
    "len({'a' : 1, 'b' : 2, 'c' :3}) # dictionary"
   ]
  },
  {
   "cell_type": "code",
   "execution_count": 66,
   "id": "3d11b476-ebe2-4abc-b5c0-dcb6483cc770",
   "metadata": {},
   "outputs": [
    {
     "name": "stdout",
     "output_type": "stream",
     "text": [
      "a\n",
      "b\n",
      "c\n"
     ]
    }
   ],
   "source": [
    "for key in {'a' : 1, 'b' : 2, 'c' :3}:\n",
    "    print(key)"
   ]
  },
  {
   "cell_type": "code",
   "execution_count": 65,
   "id": "d0e329c0-7ff8-4e9a-ac9d-d4ab22161936",
   "metadata": {},
   "outputs": [
    {
     "data": {
      "text/plain": [
       "4"
      ]
     },
     "execution_count": 65,
     "metadata": {},
     "output_type": "execute_result"
    }
   ],
   "source": [
    "len((1,2,3,4)) # tuple"
   ]
  },
  {
   "cell_type": "code",
   "execution_count": 68,
   "id": "e7c0bcf6-e172-43db-9aee-92d0ddc25fdf",
   "metadata": {},
   "outputs": [
    {
     "name": "stdout",
     "output_type": "stream",
     "text": [
      "1\n",
      "2\n",
      "3\n",
      "4\n"
     ]
    }
   ],
   "source": [
    "for member in (1,2,3,4):\n",
    "    print (member)"
   ]
  },
  {
   "cell_type": "code",
   "execution_count": 71,
   "id": "f005fc22-7a39-40df-a926-f22b6d21dc57",
   "metadata": {},
   "outputs": [],
   "source": [
    "tup = (1,2,3,4) # tuple"
   ]
  },
  {
   "cell_type": "code",
   "execution_count": 72,
   "id": "098e0017-1491-410d-bcc6-4e1b84665a49",
   "metadata": {},
   "outputs": [
    {
     "data": {
      "text/plain": [
       "3"
      ]
     },
     "execution_count": 72,
     "metadata": {},
     "output_type": "execute_result"
    }
   ],
   "source": [
    "tup[2]"
   ]
  },
  {
   "cell_type": "code",
   "execution_count": 69,
   "id": "db5a9f85-de62-4ccc-b430-da84403ebd22",
   "metadata": {},
   "outputs": [
    {
     "data": {
      "text/plain": [
       "3"
      ]
     },
     "execution_count": 69,
     "metadata": {},
     "output_type": "execute_result"
    }
   ],
   "source": [
    "len({1,3,5,1,3,5}) # set"
   ]
  },
  {
   "cell_type": "code",
   "execution_count": null,
   "id": "df986722-f146-43eb-be7d-6225e686021b",
   "metadata": {},
   "outputs": [],
   "source": []
  },
  {
   "cell_type": "code",
   "execution_count": 70,
   "id": "92f7bb57-2572-4992-9541-b411d49fb565",
   "metadata": {},
   "outputs": [
    {
     "name": "stdout",
     "output_type": "stream",
     "text": [
      "1\n",
      "3\n",
      "5\n"
     ]
    }
   ],
   "source": [
    "for ele in {1,3,5,1,3,5}:\n",
    "    print (ele)"
   ]
  },
  {
   "cell_type": "markdown",
   "id": "fabd8fca-8055-4862-8d2a-743fdbe93a9f",
   "metadata": {},
   "source": [
    "All of these are following the sequence protocol\n"
   ]
  },
  {
   "cell_type": "code",
   "execution_count": 94,
   "id": "a4ffce86-6847-455c-885d-7c0a8c6a3c37",
   "metadata": {},
   "outputs": [],
   "source": [
    "import reprlib\n",
    "class Vector:\n",
    "\n",
    " def __init__(self, vlist):\n",
    "     self.c = tuple(vlist)\n",
    "     \n",
    " def __repr__(self):\n",
    "     return f\"Vector{reprlib.repr(self.c)}\"\n",
    " def __len__(self):\n",
    "     return len(self.c)\n",
    "     \n",
    " def __getitem__(self, i):\n",
    "     return self.c[i]\n",
    "     \n",
    " def __add__(self, otherv):\n",
    "     el = []\n",
    "     for i, e in enumerate(self.c):\n",
    "         el.append(e + otherv[i])\n",
    "     return Vector (el)"
   ]
  },
  {
   "cell_type": "code",
   "execution_count": 95,
   "id": "2bc805d8-86be-4f69-bdfb-e02e70ca09ab",
   "metadata": {},
   "outputs": [],
   "source": [
    "v1 = Vector([1,2])\n",
    "v2 = Vector([1,1])"
   ]
  },
  {
   "cell_type": "code",
   "execution_count": 96,
   "id": "f1ced4cd-7bb3-4773-9563-8c0c77609e85",
   "metadata": {},
   "outputs": [
    {
     "data": {
      "text/plain": [
       "[1, 2, 3, 4]"
      ]
     },
     "execution_count": 96,
     "metadata": {},
     "output_type": "execute_result"
    }
   ],
   "source": [
    "[1,2] + [3,4]"
   ]
  },
  {
   "cell_type": "code",
   "execution_count": 97,
   "id": "9f432cfe-406a-44a6-8aa6-e6c6ad0b1637",
   "metadata": {},
   "outputs": [
    {
     "data": {
      "text/plain": [
       "(1, 2, 3, 4)"
      ]
     },
     "execution_count": 97,
     "metadata": {},
     "output_type": "execute_result"
    }
   ],
   "source": [
    "(1,2) + (3,4)"
   ]
  },
  {
   "cell_type": "code",
   "execution_count": 98,
   "id": "263f41f3-f44b-4cda-b28c-c28472949890",
   "metadata": {},
   "outputs": [],
   "source": [
    "v3 = v1 + v2"
   ]
  },
  {
   "cell_type": "code",
   "execution_count": 99,
   "id": "771fe4e7-6390-4392-9a45-fd5cf801738b",
   "metadata": {},
   "outputs": [
    {
     "data": {
      "text/plain": [
       "Vector(2, 3)"
      ]
     },
     "execution_count": 99,
     "metadata": {},
     "output_type": "execute_result"
    }
   ],
   "source": [
    "v3"
   ]
  },
  {
   "cell_type": "code",
   "execution_count": 93,
   "id": "0533cbda-4c07-4ffd-bffc-be3299e1693b",
   "metadata": {},
   "outputs": [
    {
     "data": {
      "text/plain": [
       "(2, 3)"
      ]
     },
     "execution_count": 93,
     "metadata": {},
     "output_type": "execute_result"
    }
   ],
   "source": [
    "v3.c"
   ]
  },
  {
   "cell_type": "code",
   "execution_count": null,
   "id": "f84aec27-1614-4003-b7af-0a2b2f30d1ab",
   "metadata": {},
   "outputs": [],
   "source": []
  }
 ],
 "metadata": {
  "kernelspec": {
   "display_name": "Python 3 (ipykernel)",
   "language": "python",
   "name": "python3"
  },
  "language_info": {
   "codemirror_mode": {
    "name": "ipython",
    "version": 3
   },
   "file_extension": ".py",
   "mimetype": "text/x-python",
   "name": "python",
   "nbconvert_exporter": "python",
   "pygments_lexer": "ipython3",
   "version": "3.12.2"
  }
 },
 "nbformat": 4,
 "nbformat_minor": 5
}
