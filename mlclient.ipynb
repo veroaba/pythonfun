{
 "cells": [
  {
   "cell_type": "code",
   "execution_count": 1,
   "id": "a914bad8-c256-47fd-a38e-08b6d3a99bc1",
   "metadata": {},
   "outputs": [],
   "source": [
    "xvals = [-2.022945287808054, -1.8486091760122103, -1.8476481826866842, -1.7435854332654428,\n",
    "         -1.5282423673888716, -1.3945778557109074, -1.1403979924220742, -0.8009077275459544,\n",
    "         -0.7108560219444477, -0.5638678812593274, -0.43048994749879754, -0.4265240230310121,\n",
    "         -0.23456806947264375, -0.08933017942095312, 0.04091978204507629, 0.5542534388866378,\n",
    "         0.5558786314354511, 0.8006640938973202, 1.2144534202678483, 1.9118026057089639]\n",
    "y = [0, 0, 0, 0, 0, 0, 0, 0, 0, 1, 1, 0, 1, 1, 1, 1, 1, 1, 1, 1]"
   ]
  },
  {
   "cell_type": "code",
   "execution_count": 2,
   "id": "902bf333-2d9a-4fa0-907f-d66e47177c30",
   "metadata": {},
   "outputs": [],
   "source": [
    "import ml"
   ]
  },
  {
   "cell_type": "code",
   "execution_count": 3,
   "id": "9ef24942-8200-40f5-997f-946f8b4eaf8f",
   "metadata": {},
   "outputs": [],
   "source": [
    "slope, intercept = ml.fit(xvals, y)"
   ]
  },
  {
   "cell_type": "code",
   "execution_count": 4,
   "id": "94d724b9-6657-479e-943b-ad274c0cf255",
   "metadata": {},
   "outputs": [],
   "source": [
    "predict_proba = ml.predict_proba_maker(slope, intercept)\n",
    "predict = ml.predict_maker(slope, intercept)"
   ]
  },
  {
   "cell_type": "code",
   "execution_count": 5,
   "id": "b4487a2f-d488-44f5-aa63-7e4abc45f2f1",
   "metadata": {},
   "outputs": [
    {
     "data": {
      "text/plain": [
       "[0, 0, 0, 0, 0, 0, 0, 0, 0, 0, 1, 1, 1, 1, 1, 1, 1, 1, 1, 1]"
      ]
     },
     "execution_count": 5,
     "metadata": {},
     "output_type": "execute_result"
    }
   ],
   "source": [
    "predict(xvals)\n"
   ]
  },
  {
   "cell_type": "code",
   "execution_count": 6,
   "id": "79f5abfa-15ca-4022-8475-85820ebef13b",
   "metadata": {},
   "outputs": [
    {
     "data": {
      "text/plain": [
       "[0, 0, 0, 0, 0, 0, 0, 0, 1, 1, 1, 1, 1, 1, 1, 1, 1, 1, 1, 1]"
      ]
     },
     "execution_count": 6,
     "metadata": {},
     "output_type": "execute_result"
    }
   ],
   "source": [
    "predict(xvals, t=0.1)\n"
   ]
  },
  {
   "cell_type": "code",
   "execution_count": 7,
   "id": "2d69039c-fe31-4550-82b9-311a95db6686",
   "metadata": {},
   "outputs": [],
   "source": [
    "m=ml.model()\n"
   ]
  },
  {
   "cell_type": "code",
   "execution_count": 8,
   "id": "5d9f609e-1d1f-4a61-8b08-87b785834209",
   "metadata": {},
   "outputs": [],
   "source": [
    "m['fit'](xvals, y)\n"
   ]
  },
  {
   "cell_type": "code",
   "execution_count": 9,
   "id": "b21ab101-69ba-4fdc-9278-3a06363abb1c",
   "metadata": {},
   "outputs": [
    {
     "data": {
      "text/plain": [
       "[4.2384487899544125e-07,\n",
       " 2.3448061801774165e-06,\n",
       " 2.367020582552928e-06,\n",
       " 6.571192923791013e-06,\n",
       " 5.4358541876421125e-05,\n",
       " 0.00020173914933983947,\n",
       " 0.002437575065306435,\n",
       " 0.06397080195941987,\n",
       " 0.14189620473359968,\n",
       " 0.41159487946671264,\n",
       " 0.7213831993772614,\n",
       " 0.7291366897897232,\n",
       " 0.9465322242527417,\n",
       " 0.9865972956193445,\n",
       " 0.9962296985932257,\n",
       " 0.9999754229236333,\n",
       " 0.9999758117230415,\n",
       " 0.9999978096835431,\n",
       " 0.9999999622235002,\n",
       " 0.9999999999596727]"
      ]
     },
     "execution_count": 9,
     "metadata": {},
     "output_type": "execute_result"
    }
   ],
   "source": [
    "m ['predict_proba'] (xvals)\n"
   ]
  },
  {
   "cell_type": "code",
   "execution_count": 10,
   "id": "caedd1d6-25a7-410f-a52d-7d30ee39beae",
   "metadata": {},
   "outputs": [
    {
     "data": {
      "text/plain": [
       "[0, 0, 0, 0, 0, 0, 0, 0, 0, 0, 1, 1, 1, 1, 1, 1, 1, 1, 1, 1]"
      ]
     },
     "execution_count": 10,
     "metadata": {},
     "output_type": "execute_result"
    }
   ],
   "source": [
    "m['predict'](xvals)\n"
   ]
  },
  {
   "cell_type": "code",
   "execution_count": 11,
   "id": "d4ece590-fd6d-47b6-be13-88231f8efcd3",
   "metadata": {},
   "outputs": [
    {
     "data": {
      "text/plain": [
       "[0, 0, 0, 0, 0, 0, 0, 0, 0, 0, 1, 1, 1, 1, 1, 1, 1, 1, 1, 1]"
      ]
     },
     "execution_count": 11,
     "metadata": {},
     "output_type": "execute_result"
    }
   ],
   "source": [
    "m['predict'](xvals)"
   ]
  },
  {
   "cell_type": "code",
   "execution_count": 12,
   "id": "4b681d3a-6f8f-4e89-aa60-5b53ac83db76",
   "metadata": {},
   "outputs": [
    {
     "data": {
      "text/plain": [
       "[0, 0, 0, 0, 0, 0, 0, 0, 1, 1, 1, 1, 1, 1, 1, 1, 1, 1, 1, 1]"
      ]
     },
     "execution_count": 12,
     "metadata": {},
     "output_type": "execute_result"
    }
   ],
   "source": [
    "m['predict'](xvals, t=0.1)"
   ]
  },
  {
   "cell_type": "code",
   "execution_count": 13,
   "id": "65406348-60fd-4823-ae17-e9f02cf32b2d",
   "metadata": {},
   "outputs": [],
   "source": [
    "mlm =ml.MlModel()"
   ]
  },
  {
   "cell_type": "code",
   "execution_count": 15,
   "id": "bcbdc01b-55f9-4384-8a5d-64ae38151624",
   "metadata": {},
   "outputs": [],
   "source": [
    "mlm.intercept"
   ]
  },
  {
   "cell_type": "code",
   "execution_count": null,
   "id": "ebcc8884-8477-428c-836d-1effb886da98",
   "metadata": {},
   "outputs": [],
   "source": [
    "mlm.probabilities"
   ]
  },
  {
   "cell_type": "code",
   "execution_count": null,
   "id": "b1743768-d188-48ce-bfa1-9c19e1f7f672",
   "metadata": {},
   "outputs": [],
   "source": [
    "mlm.predict_proba(xvals)\n"
   ]
  },
  {
   "cell_type": "code",
   "execution_count": 18,
   "id": "c42b682c-0c42-47c6-9e02-faba19853297",
   "metadata": {},
   "outputs": [
    {
     "ename": "NameError",
     "evalue": "name 'xvalues' is not defined",
     "output_type": "error",
     "traceback": [
      "\u001b[0;31m---------------------------------------------------------------------------\u001b[0m",
      "\u001b[0;31mNameError\u001b[0m                                 Traceback (most recent call last)",
      "Cell \u001b[0;32mIn[18], line 1\u001b[0m\n\u001b[0;32m----> 1\u001b[0m mlm\u001b[38;5;241m.\u001b[39mpredict(\u001b[43mxvalues\u001b[49m)\n",
      "\u001b[0;31mNameError\u001b[0m: name 'xvalues' is not defined"
     ]
    }
   ],
   "source": [
    "mlm.predict(xvalues)"
   ]
  },
  {
   "cell_type": "code",
   "execution_count": null,
   "id": "c290fc77-966a-4c21-a327-687766c6f32c",
   "metadata": {},
   "outputs": [],
   "source": []
  }
 ],
 "metadata": {
  "kernelspec": {
   "display_name": "Python 3 (ipykernel)",
   "language": "python",
   "name": "python3"
  },
  "language_info": {
   "codemirror_mode": {
    "name": "ipython",
    "version": 3
   },
   "file_extension": ".py",
   "mimetype": "text/x-python",
   "name": "python",
   "nbconvert_exporter": "python",
   "pygments_lexer": "ipython3",
   "version": "3.12.2"
  }
 },
 "nbformat": 4,
 "nbformat_minor": 5
}
